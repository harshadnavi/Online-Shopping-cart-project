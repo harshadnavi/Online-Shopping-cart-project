{
 "cells": [
  {
   "cell_type": "code",
   "execution_count": null,
   "id": "dbae5f93-36ad-43da-94c5-284623978de8",
   "metadata": {},
   "outputs": [],
   "source": []
  }
 ],
 "metadata": {
  "kernelspec": {
   "display_name": "",
   "name": ""
  },
  "language_info": {
   "name": ""
  }
 },
 "nbformat": 4,
 "nbformat_minor": 5
}
